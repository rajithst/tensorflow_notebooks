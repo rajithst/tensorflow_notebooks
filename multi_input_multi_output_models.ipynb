{
 "cells": [
  {
   "cell_type": "code",
   "execution_count": 1,
   "metadata": {
    "colab": {
     "base_uri": "https://localhost:8080/",
     "height": 34
    },
    "colab_type": "code",
    "id": "pSvZqqosQEGr",
    "outputId": "f79d9854-3c24-4494-86cd-f9a222fa1aa3"
   },
   "outputs": [],
   "source": [
    "import pandas as pd\n",
    "import numpy as np\n",
    "import matplotlib.pyplot as plt\n",
    "from sklearn.model_selection import train_test_split"
   ]
  },
  {
   "cell_type": "markdown",
   "metadata": {
    "colab_type": "text",
    "id": "TghiWeOIashJ"
   },
   "source": [
    "The `acute inflammations` was created by a medical expert as a data set to test the expert system, which will perform the presumptive diagnosis of two diseases of the urinary system. You can find out more about the dataset in UCI repository.[here](https://archive.ics.uci.edu/ml/datasets/Acute+Inflammations).\n",
    "\n",
    "Data information:\n",
    "\n",
    "Inputs:\n",
    "- Temperature of patient : 35C-42C\n",
    "- Occurrence of nausea : yes/no\n",
    "- Lumbar pain : yes/no\n",
    "- Urine pushing (continuous need for urination) : yes/no\n",
    "- Micturition pains : yes/no\n",
    "- Burning of urethra, itch, swelling of urethra outlet : yes/no\n",
    "\n",
    "Outputs:\n",
    "- decision 1: Inflammation of urinary bladder : yes/no\n",
    "- decision 2: Nephritis of renal pelvis origin : yes/no"
   ]
  },
  {
   "cell_type": "markdown",
   "metadata": {
    "colab_type": "text",
    "id": "qdlP68D1bC6r"
   },
   "source": [
    "## Load dataset and extract X and y features"
   ]
  },
  {
   "cell_type": "code",
   "execution_count": 2,
   "metadata": {
    "colab": {
     "base_uri": "https://localhost:8080/",
     "height": 204
    },
    "colab_type": "code",
    "id": "F41etzvLQSL6",
    "outputId": "f5c33903-4961-4bfe-9bfa-fad3ae90c5ea"
   },
   "outputs": [
    {
     "data": {
      "text/html": [
       "<div>\n",
       "<style scoped>\n",
       "    .dataframe tbody tr th:only-of-type {\n",
       "        vertical-align: middle;\n",
       "    }\n",
       "\n",
       "    .dataframe tbody tr th {\n",
       "        vertical-align: top;\n",
       "    }\n",
       "\n",
       "    .dataframe thead th {\n",
       "        text-align: right;\n",
       "    }\n",
       "</style>\n",
       "<table border=\"1\" class=\"dataframe\">\n",
       "  <thead>\n",
       "    <tr style=\"text-align: right;\">\n",
       "      <th></th>\n",
       "      <th>0</th>\n",
       "      <th>1</th>\n",
       "      <th>2</th>\n",
       "      <th>3</th>\n",
       "      <th>4</th>\n",
       "      <th>5</th>\n",
       "      <th>6</th>\n",
       "      <th>7</th>\n",
       "    </tr>\n",
       "  </thead>\n",
       "  <tbody>\n",
       "    <tr>\n",
       "      <th>0</th>\n",
       "      <td>35.5</td>\n",
       "      <td>0</td>\n",
       "      <td>1</td>\n",
       "      <td>0</td>\n",
       "      <td>0</td>\n",
       "      <td>0</td>\n",
       "      <td>0</td>\n",
       "      <td>0</td>\n",
       "    </tr>\n",
       "    <tr>\n",
       "      <th>1</th>\n",
       "      <td>35.9</td>\n",
       "      <td>0</td>\n",
       "      <td>0</td>\n",
       "      <td>1</td>\n",
       "      <td>1</td>\n",
       "      <td>1</td>\n",
       "      <td>1</td>\n",
       "      <td>0</td>\n",
       "    </tr>\n",
       "    <tr>\n",
       "      <th>2</th>\n",
       "      <td>35.9</td>\n",
       "      <td>0</td>\n",
       "      <td>1</td>\n",
       "      <td>0</td>\n",
       "      <td>0</td>\n",
       "      <td>0</td>\n",
       "      <td>0</td>\n",
       "      <td>0</td>\n",
       "    </tr>\n",
       "    <tr>\n",
       "      <th>3</th>\n",
       "      <td>36.0</td>\n",
       "      <td>0</td>\n",
       "      <td>0</td>\n",
       "      <td>1</td>\n",
       "      <td>1</td>\n",
       "      <td>1</td>\n",
       "      <td>1</td>\n",
       "      <td>0</td>\n",
       "    </tr>\n",
       "    <tr>\n",
       "      <th>4</th>\n",
       "      <td>36.0</td>\n",
       "      <td>0</td>\n",
       "      <td>1</td>\n",
       "      <td>0</td>\n",
       "      <td>0</td>\n",
       "      <td>0</td>\n",
       "      <td>0</td>\n",
       "      <td>0</td>\n",
       "    </tr>\n",
       "  </tbody>\n",
       "</table>\n",
       "</div>"
      ],
      "text/plain": [
       "      0  1  2  3  4  5  6  7\n",
       "0  35.5  0  1  0  0  0  0  0\n",
       "1  35.9  0  0  1  1  1  1  0\n",
       "2  35.9  0  1  0  0  0  0  0\n",
       "3  36.0  0  0  1  1  1  1  0\n",
       "4  36.0  0  1  0  0  0  0  0"
      ]
     },
     "execution_count": 2,
     "metadata": {},
     "output_type": "execute_result"
    }
   ],
   "source": [
    "data = pd.read_csv(\"data/diagnosis.csv\")\n",
    "data.head()"
   ]
  },
  {
   "cell_type": "code",
   "execution_count": 3,
   "metadata": {
    "colab": {},
    "colab_type": "code",
    "id": "YtMXntghR9KS"
   },
   "outputs": [],
   "source": [
    "X = data.iloc[:,:6]\n",
    "y = data.iloc[:,6:]"
   ]
  },
  {
   "cell_type": "markdown",
   "metadata": {
    "colab_type": "text",
    "id": "bhICj89wbM-E"
   },
   "source": [
    "<p> We have 6 input features and 2 output features.Lets create architecture with six inputs and two output. </p>"
   ]
  },
  {
   "cell_type": "markdown",
   "metadata": {
    "colab_type": "text",
    "id": "kqFZ6xTVbjg0"
   },
   "source": [
    "## Prepare data for Inputs and Outputs\n",
    "\n",
    "\n",
    "1.   Train/Test split\n",
    "2.   Extract six inputs and two outputs to separate variables\n",
    "\n"
   ]
  },
  {
   "cell_type": "code",
   "execution_count": 4,
   "metadata": {
    "colab": {},
    "colab_type": "code",
    "id": "kEDNRi2ddzGa"
   },
   "outputs": [],
   "source": [
    "X_train,X_test,y_train,y_test = train_test_split(X,y,test_size = 0.3)"
   ]
  },
  {
   "cell_type": "code",
   "execution_count": 5,
   "metadata": {
    "colab": {},
    "colab_type": "code",
    "id": "x8QkHkAUeJY0"
   },
   "outputs": [],
   "source": [
    "#Input training and Input testing extraction\n",
    "temp_train, occ_of_nau_train, lumb_pain_train, urine_push_train, mict_pain_train, bis_urethra_train = np.transpose(X_train.values)\n",
    "temp_test, occ_of_nau_test, lumb_pain_test, urine_push_test, mict_pain_test, bis_urethra_test = np.transpose(X_test.values)\n",
    "\n",
    "# Output training and Output testing extraction\n",
    "inflammation_train,nephritis_train = np.transpose(y_train.values)\n",
    "inflammation_test,nephritis_test = np.transpose(y_test.values)"
   ]
  },
  {
   "cell_type": "code",
   "execution_count": 6,
   "metadata": {
    "colab": {
     "base_uri": "https://localhost:8080/",
     "height": 221
    },
    "colab_type": "code",
    "id": "Ogobrn0ecS-G",
    "outputId": "c8b5a827-2e32-4778-cb3d-53706aaf19eb"
   },
   "outputs": [
    {
     "name": "stdout",
     "output_type": "stream",
     "text": [
      "(84,)\n",
      "(84,)\n",
      "(84,)\n",
      "(84,)\n",
      "(84,)\n",
      "(84,)\n",
      "(36,)\n",
      "(36,)\n",
      "(36,)\n",
      "(36,)\n",
      "(36,)\n",
      "(36,)\n"
     ]
    }
   ],
   "source": [
    "input_train_list = [temp_train, occ_of_nau_train, lumb_pain_train, urine_push_train, mict_pain_train, bis_urethra_train]\n",
    "input_test_list = [temp_test, occ_of_nau_test, lumb_pain_test, urine_push_test, mict_pain_test, bis_urethra_test]\n",
    "\n",
    "output_train_list = [inflammation_train,nephritis_train]\n",
    "output_test_list = [inflammation_test,nephritis_test]\n",
    "\n",
    "for i in input_train_list: print(i.shape)\n",
    "for i in input_test_list: print(i.shape)"
   ]
  },
  {
   "cell_type": "markdown",
   "metadata": {
    "colab_type": "text",
    "id": "bIeH6k2jfwFX"
   },
   "source": [
    "### Build Model\n",
    "\n",
    "1.   Define Input Layers\n",
    "2.   Merge Input layers\n",
    "3.   Define Output Layers\n",
    "4.   Define Model object in feed input and output layers\n",
    "5.   Plot/Summary model\n",
    "6.   Compile Model\n",
    "7.   Train Model\n",
    "8.   Evaluate Model\n",
    "\n",
    "\n",
    "\n"
   ]
  },
  {
   "cell_type": "code",
   "execution_count": 7,
   "metadata": {
    "colab": {},
    "colab_type": "code",
    "id": "ehkjrrOxd0ws"
   },
   "outputs": [],
   "source": [
    "import tensorflow as tf\n",
    "from tensorflow.keras import Input,layers"
   ]
  },
  {
   "cell_type": "code",
   "execution_count": 8,
   "metadata": {
    "colab": {},
    "colab_type": "code",
    "id": "gluF5wJdf2yL"
   },
   "outputs": [],
   "source": [
    "#define all inputs as input layers\n",
    "shape = (1,)\n",
    "temperature = Input(shape=shape,name=\"temprature\")\n",
    "nausea_occurence = Input(shape=shape,name=\"nausea_occurence\")\n",
    "lumbar_pain = Input(shape=shape,name=\"lumbar_pain\")\n",
    "urine_pushing = Input(shape=shape,name=\"urine_pushing\")\n",
    "micturition_pains = Input(shape=shape,name=\"micturition_pains\")\n",
    "bis = Input(shape=shape,name=\"bis\")"
   ]
  },
  {
   "cell_type": "code",
   "execution_count": 9,
   "metadata": {
    "colab": {},
    "colab_type": "code",
    "id": "SjqSoLQEgbXd"
   },
   "outputs": [],
   "source": [
    "input_layer_list = [temperature, nausea_occurence, lumbar_pain, urine_pushing, \n",
    "                    micturition_pains, bis]\n"
   ]
  },
  {
   "cell_type": "code",
   "execution_count": 10,
   "metadata": {
    "colab": {
     "base_uri": "https://localhost:8080/",
     "height": 34
    },
    "colab_type": "code",
    "id": "gdCrfLqUg51s",
    "outputId": "c792b308-03ec-446c-e0a0-9ee2c5b13825"
   },
   "outputs": [
    {
     "name": "stdout",
     "output_type": "stream",
     "text": [
      "Tensor(\"concatenate/concat:0\", shape=(None, 6), dtype=float32)\n"
     ]
    }
   ],
   "source": [
    "# concatenate all inputs in to a single vector\n",
    "x = layers.concatenate(input_layer_list)\n",
    "print(x)"
   ]
  },
  {
   "cell_type": "code",
   "execution_count": 11,
   "metadata": {
    "colab": {},
    "colab_type": "code",
    "id": "ZM4OfICRhBpm"
   },
   "outputs": [],
   "source": [
    "# define output layers,using logistic regression classifier\n",
    "inflammation_pred = layers.Dense(1,activation=\"sigmoid\",name=\"inflammation\") (x) # feed concatenated input layers of x\n",
    "nephritis_pred = layers.Dense(1,activation=\"sigmoid\",name=\"nephritis\") (x) # feed concatenated input layers of x"
   ]
  },
  {
   "cell_type": "code",
   "execution_count": 12,
   "metadata": {
    "colab": {},
    "colab_type": "code",
    "id": "NSs6PDw6iV4T"
   },
   "outputs": [],
   "source": [
    "output_layer_list = [inflammation_pred,nephritis_pred]"
   ]
  },
  {
   "cell_type": "code",
   "execution_count": 13,
   "metadata": {
    "colab": {},
    "colab_type": "code",
    "id": "dJ61b-TxidW0"
   },
   "outputs": [],
   "source": [
    "# define model optimizer\n",
    "model = tf.keras.Model(inputs = input_layer_list,\n",
    "                       outputs = output_layer_list)"
   ]
  },
  {
   "cell_type": "code",
   "execution_count": 14,
   "metadata": {
    "colab": {
     "base_uri": "https://localhost:8080/",
     "height": 544
    },
    "colab_type": "code",
    "id": "n-T0DbEHjd9p",
    "outputId": "f33c9524-364a-4292-9613-24a9e35104b8"
   },
   "outputs": [
    {
     "name": "stdout",
     "output_type": "stream",
     "text": [
      "Model: \"functional_1\"\n",
      "__________________________________________________________________________________________________\n",
      "Layer (type)                    Output Shape         Param #     Connected to                     \n",
      "==================================================================================================\n",
      "temprature (InputLayer)         [(None, 1)]          0                                            \n",
      "__________________________________________________________________________________________________\n",
      "nausea_occurence (InputLayer)   [(None, 1)]          0                                            \n",
      "__________________________________________________________________________________________________\n",
      "lumbar_pain (InputLayer)        [(None, 1)]          0                                            \n",
      "__________________________________________________________________________________________________\n",
      "urine_pushing (InputLayer)      [(None, 1)]          0                                            \n",
      "__________________________________________________________________________________________________\n",
      "micturition_pains (InputLayer)  [(None, 1)]          0                                            \n",
      "__________________________________________________________________________________________________\n",
      "bis (InputLayer)                [(None, 1)]          0                                            \n",
      "__________________________________________________________________________________________________\n",
      "concatenate (Concatenate)       (None, 6)            0           temprature[0][0]                 \n",
      "                                                                 nausea_occurence[0][0]           \n",
      "                                                                 lumbar_pain[0][0]                \n",
      "                                                                 urine_pushing[0][0]              \n",
      "                                                                 micturition_pains[0][0]          \n",
      "                                                                 bis[0][0]                        \n",
      "__________________________________________________________________________________________________\n",
      "inflammation (Dense)            (None, 1)            7           concatenate[0][0]                \n",
      "__________________________________________________________________________________________________\n",
      "nephritis (Dense)               (None, 1)            7           concatenate[0][0]                \n",
      "==================================================================================================\n",
      "Total params: 14\n",
      "Trainable params: 14\n",
      "Non-trainable params: 0\n",
      "__________________________________________________________________________________________________\n"
     ]
    }
   ],
   "source": [
    "\n",
    "#model summary\n",
    "model.summary()"
   ]
  },
  {
   "cell_type": "code",
   "execution_count": 15,
   "metadata": {
    "colab": {
     "base_uri": "https://localhost:8080/",
     "height": 281
    },
    "colab_type": "code",
    "id": "5MllhIIajfbA",
    "outputId": "32ad99b1-5088-456a-b7b1-2317bca04c0d"
   },
   "outputs": [
    {
     "data": {
      "image/png": "[encoded data removed]",
      "text/plain": [
       "<IPython.core.display.Image object>"
      ]
     },
     "execution_count": 15,
     "metadata": {
      "tags": []
     },
     "output_type": "execute_result"
    }
   ],
   "source": [
    "# plot the model\n",
    "tf.keras.utils.plot_model(model,\"model.png\",show_layer_names=True,show_shapes=True)"
   ]
  },
  {
   "cell_type": "markdown",
   "metadata": {
    "colab_type": "text",
    "id": "zq8xt3H_nOES"
   },
   "source": [
    "#### we can specify compile inputs in a different ways\n",
    "\n",
    "\n",
    "1.   Dictionary based definition \n",
    "2.   List based definition tem\n",
    "\n"
   ]
  },
  {
   "cell_type": "code",
   "execution_count": 23,
   "metadata": {
    "colab": {},
    "colab_type": "code",
    "id": "WFpSUaqAkDuE"
   },
   "outputs": [],
   "source": [
    "# compile model using  dictionary based definition\n",
    "\n",
    "#loss functions using layer name\n",
    "loss_dict = {\"inflammation\": \"binary_crossentropy\",\n",
    "             \"nephritis\":\"binary_crossentropy\"}\n",
    "\n",
    "#metrics for each output layer using layer name\n",
    "metrics_dict = {\"inflammation\": [\"acc\"],\n",
    "                \"nephritis\": [\"acc\"]}\n",
    "\n",
    "#loss weights dictionary\n",
    "lossweights_dict = {\"inflammation\": 1,\n",
    "                \"nephritis\": 0.2}\n"
   ]
  },
  {
   "cell_type": "code",
   "execution_count": 17,
   "metadata": {
    "colab": {},
    "colab_type": "code",
    "id": "4DOwLtypKraU"
   },
   "outputs": [],
   "source": [
    "# compile model using  list  based definition,list order is same as layers order\n",
    "\n",
    "#loss functions orders same as output layer order\n",
    "loss_dict = [\"binary_crossentropy\",\"binary_crossentropy\"]\n",
    "\n",
    "#metrics for each output layer in same order\n",
    "metrics_dict = [[\"acc\"], [\"acc\"]]\n",
    "\n",
    "#loss weights dictionary\n",
    "lossweights_dict = [1, 0.2]\n"
   ]
  },
  {
   "cell_type": "code",
   "execution_count": 24,
   "metadata": {
    "colab": {},
    "colab_type": "code",
    "id": "4aLQxIjrKmjL"
   },
   "outputs": [],
   "source": [
    "model.compile(optimizer=tf.keras.optimizers.RMSprop(1e-3),\n",
    "              loss=loss_dict,\n",
    "              metrics=metrics_dict,\n",
    "              loss_weights=lossweights_dict)\n",
    "\n",
    "#input list of input X data and input y data\n",
    "history = model.fit(x=input_train_list,\n",
    "          y=output_train_list,\n",
    "          epochs=1000,batch_size=128,verbose=False)"
   ]
  },
  {
   "cell_type": "code",
   "execution_count": 25,
   "metadata": {
    "colab": {
     "base_uri": "https://localhost:8080/",
     "height": 34
    },
    "colab_type": "code",
    "id": "0u4L6LqQrlN6",
    "outputId": "b47604f4-f6f5-4555-c06e-4995176a986a"
   },
   "outputs": [
    {
     "data": {
      "text/plain": [
       "dict_keys(['loss', 'inflammation_loss', 'nephritis_loss', 'inflammation_acc', 'nephritis_acc'])"
      ]
     },
     "execution_count": 25,
     "metadata": {
      "tags": []
     },
     "output_type": "execute_result"
    }
   ],
   "source": [
    "history.history.keys()"
   ]
  },
  {
   "cell_type": "code",
   "execution_count": 26,
   "metadata": {
    "colab": {},
    "colab_type": "code",
    "id": "cKqBeRRWnIxX"
   },
   "outputs": [],
   "source": [
    "def plot_history(history):\n",
    "\n",
    "  acc_keys = [k for k in history.history.keys() if k in ('inflammation_acc', 'nephritis_acc')] \n",
    "  loss_keys = [k for k in history.history.keys() if not k in acc_keys]\n",
    "\n",
    "  for k, v in history.history.items():\n",
    "      if k in acc_keys:\n",
    "          plt.figure(1)\n",
    "          plt.plot(v)\n",
    "      else:\n",
    "          plt.figure(2)\n",
    "          plt.plot(v)\n",
    "\n",
    "  plt.figure(1)\n",
    "  plt.title('Accuracy vs. epochs')\n",
    "  plt.ylabel('Accuracy')\n",
    "  plt.xlabel('Epoch')\n",
    "  plt.legend(acc_keys, loc='upper right')\n",
    "\n",
    "  plt.figure(2)\n",
    "  plt.title('Loss vs. epochs')\n",
    "  plt.ylabel('Loss')\n",
    "  plt.xlabel('Epoch')\n",
    "  plt.legend(loss_keys, loc='upper right')\n",
    "\n",
    "  plt.show()"
   ]
  },
  {
   "cell_type": "code",
   "execution_count": 27,
   "metadata": {
    "colab": {
     "base_uri": "https://localhost:8080/",
     "height": 573
    },
    "colab_type": "code",
    "id": "9aXIcIGuojLg",
    "outputId": "578ac5d9-78b9-41cb-f89c-05987ba0219f"
   },
   "outputs": [
    {
     "data": {
      "image/png": "[encoded data removed]",
      "text/plain": [
       "<Figure size 432x288 with 1 Axes>"
      ]
     },
     "metadata": {
      "needs_background": "light",
      "tags": []
     },
     "output_type": "display_data"
    },
    {
     "data": {
      "image/png": "[encoded data removed]",
      "text/plain": [
       "<Figure size 432x288 with 1 Axes>"
      ]
     },
     "metadata": {
      "needs_background": "light",
      "tags": []
     },
     "output_type": "display_data"
    }
   ],
   "source": [
    "plot_history(history=history)"
   ]
  },
  {
   "cell_type": "markdown",
   "metadata": {
    "colab_type": "text",
    "id": "KDJlYl8WLmI9"
   },
   "source": [
    "### Evaluate Model"
   ]
  },
  {
   "cell_type": "code",
   "execution_count": 28,
   "metadata": {
    "colab": {
     "base_uri": "https://localhost:8080/",
     "height": 51
    },
    "colab_type": "code",
    "id": "zBxw74Z1qO-U",
    "outputId": "931de46c-5884-42b1-8451-24d1bf6971bb"
   },
   "outputs": [
    {
     "name": "stdout",
     "output_type": "stream",
     "text": [
      "2/2 [==============================] - 0s 3ms/step - loss: 0.2652 - inflammation_loss: 0.1865 - nephritis_loss: 0.3936 - inflammation_acc: 1.0000 - nephritis_acc: 1.0000\n"
     ]
    },
    {
     "data": {
      "text/plain": [
       "[0.2651781439781189, 0.1864512860774994, 0.3936343789100647, 1.0, 1.0]"
      ]
     },
     "execution_count": 28,
     "metadata": {
      "tags": []
     },
     "output_type": "execute_result"
    }
   ],
   "source": [
    "model.evaluate(input_test_list,output_test_list)"
   ]
  },
  {
   "cell_type": "code",
   "execution_count": null,
   "metadata": {
    "colab": {},
    "colab_type": "code",
    "id": "s_h1rJpLL9cu"
   },
   "outputs": [],
   "source": []
  }
 ],
 "metadata": {
  "colab": {
   "collapsed_sections": [],
   "name": "multi_input_multi_output_models.ipynb",
   "provenance": [],
   "toc_visible": true
  },
  "kernelspec": {
   "display_name": "Python 3",
   "language": "python",
   "name": "python3"
  },
  "language_info": {
   "codemirror_mode": {
    "name": "ipython",
    "version": 3
   },
   "file_extension": ".py",
   "mimetype": "text/x-python",
   "name": "python",
   "nbconvert_exporter": "python",
   "pygments_lexer": "ipython3",
   "version": "3.7.7"
  }
 },
 "nbformat": 4,
 "nbformat_minor": 1
}
